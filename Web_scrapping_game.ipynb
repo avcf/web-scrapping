{
 "cells": [
  {
   "cell_type": "raw",
   "id": "9755a0b4-cfda-4a6e-b65b-c89c2d879797",
   "metadata": {},
   "source": [
    "Web Scrapping locations for each witcher game using selenium"
   ]
  },
  {
   "cell_type": "code",
   "execution_count": 3,
   "id": "92cb2103-73cd-472c-8d7e-a9efb6032296",
   "metadata": {},
   "outputs": [],
   "source": [
    "import pandas as pd\n",
    "import time\n",
    "from selenium import webdriver\n",
    "from webdriver_manager.chrome import ChromeDriverManager\n",
    "from selenium.webdriver.common.by import By\n",
    "import seaborn as sns\n",
    "import matplotlib.pyplot as plt"
   ]
  },
  {
   "cell_type": "code",
   "execution_count": 89,
   "id": "17c856c8-c619-49e7-ac1e-da3843b836a2",
   "metadata": {},
   "outputs": [
    {
     "name": "stdout",
     "output_type": "stream",
     "text": [
      "\n"
     ]
    },
    {
     "name": "stderr",
     "output_type": "stream",
     "text": [
      "[WDM] - ====== WebDriver manager ======\n",
      "[WDM] - Current google-chrome version is 102.0.5005\n",
      "[WDM] - Get LATEST chromedriver version for 102.0.5005 google-chrome\n",
      "[WDM] - Driver [C:\\Users\\Admin\\.wdm\\drivers\\chromedriver\\win32\\102.0.5005.61\\chromedriver.exe] found in cache\n",
      "C:\\Users\\Admin\\AppData\\Local\\Temp/ipykernel_10460/2767233116.py:1: DeprecationWarning: executable_path has been deprecated, please pass in a Service object\n",
      "  driver = webdriver.Chrome(ChromeDriverManager().install())\n"
     ]
    }
   ],
   "source": [
    "driver = webdriver.Chrome(ChromeDriverManager().install())"
   ]
  },
  {
   "cell_type": "code",
   "execution_count": 5,
   "id": "811b759c-365f-43ae-bb9f-108940e1731e",
   "metadata": {},
   "outputs": [],
   "source": [
    "page_url=\"https://witcher.fandom.com/wiki/Category:Locations\"\n",
    "driver.get(page_url)"
   ]
  },
  {
   "cell_type": "code",
   "execution_count": 21,
   "id": "6e147688-6420-4067-a210-49eefc545b2f",
   "metadata": {},
   "outputs": [],
   "source": [
    "cat = driver.find_elements(By.CLASS_NAME, 'category-page__member-link')"
   ]
  },
  {
   "cell_type": "code",
   "execution_count": 23,
   "id": "d1bb9d01-f7d2-4aa6-8983-e1ffd15621c2",
   "metadata": {},
   "outputs": [
    {
     "data": {
      "text/plain": [
       "'Category:The Witcher Adventure Game locations'"
      ]
     },
     "execution_count": 23,
     "metadata": {},
     "output_type": "execute_result"
    }
   ],
   "source": [
    "cat[3].text"
   ]
  },
  {
   "cell_type": "code",
   "execution_count": 24,
   "id": "285bbce4-22c6-4796-92a2-3d862823b1a4",
   "metadata": {},
   "outputs": [
    {
     "data": {
      "text/plain": [
       "'https://witcher.fandom.com/wiki/Category:The_Witcher_Adventure_Game_locations'"
      ]
     },
     "execution_count": 24,
     "metadata": {},
     "output_type": "execute_result"
    }
   ],
   "source": [
    "cat[3].get_attribute('href')"
   ]
  },
  {
   "cell_type": "code",
   "execution_count": 25,
   "id": "59796242-0f89-4a44-811f-ba83e6023f1f",
   "metadata": {},
   "outputs": [],
   "source": [
    "driver.get(cat[3].get_attribute('href'))"
   ]
  },
  {
   "cell_type": "code",
   "execution_count": 27,
   "id": "ef6459b0-4482-4626-8ed6-ce3984efcc30",
   "metadata": {},
   "outputs": [],
   "source": [
    "lname=   driver.find_elements(By.CLASS_NAME, 'category-page__member-link')"
   ]
  },
  {
   "cell_type": "code",
   "execution_count": 31,
   "id": "f6573421-8e65-46a4-919c-3ec407818c37",
   "metadata": {},
   "outputs": [
    {
     "data": {
      "text/plain": [
       "'Rivia (city)'"
      ]
     },
     "execution_count": 31,
     "metadata": {},
     "output_type": "execute_result"
    }
   ],
   "source": [
    "lname[2].text"
   ]
  },
  {
   "cell_type": "code",
   "execution_count": 95,
   "id": "222b0114-2597-4388-898c-67998e19bfbc",
   "metadata": {},
   "outputs": [],
   "source": [
    "#full code\n",
    "#get the url location\n",
    "page_url=\"https://witcher.fandom.com/wiki/Category:Locations\"\n",
    "#access the url\n",
    "driver.get(page_url)\n",
    "#delay for loading\n",
    "time.sleep(3)\n",
    "#get each items by class_name\n",
    "game_categories = driver.find_elements(By.CLASS_NAME,'category-page__member-link')\n",
    "#create game list, name+ulr\n",
    "games = []\n",
    "#loop for each game name to get game's url\n",
    "for n_game in game_categories:\n",
    "    #get link of each game name\n",
    "    game_url = n_game.get_attribute('href')\n",
    "    #get the game name\n",
    "    game_name = n_game.text\n",
    "    #create dict concat game name+ url\n",
    "    games.append({'game_name': game_name, \"url\": game_url})"
   ]
  },
  {
   "cell_type": "code",
   "execution_count": 108,
   "id": "567c45f0-be3e-4e0c-992b-b13c64ee1971",
   "metadata": {},
   "outputs": [],
   "source": [
    "#create new list for game name+locations\n",
    "location_list = []\n",
    "#loop for each game name to get locations\n",
    "for game in games:\n",
    "    driver.get(game['url'])\n",
    "    l_name = driver.find_elements(By.CLASS_NAME,'category-page__member-link')\n",
    "    #create dict concat game name+ locations\n",
    "    for l in l_name:\n",
    "        location_list.append({'game': game['game_name'],'location': l.text})"
   ]
  },
  {
   "cell_type": "code",
   "execution_count": 110,
   "id": "f95facc8-7182-46bd-a07c-c95e6f271151",
   "metadata": {},
   "outputs": [
    {
     "data": {
      "text/html": [
       "<div>\n",
       "<style scoped>\n",
       "    .dataframe tbody tr th:only-of-type {\n",
       "        vertical-align: middle;\n",
       "    }\n",
       "\n",
       "    .dataframe tbody tr th {\n",
       "        vertical-align: top;\n",
       "    }\n",
       "\n",
       "    .dataframe thead th {\n",
       "        text-align: right;\n",
       "    }\n",
       "</style>\n",
       "<table border=\"1\" class=\"dataframe\">\n",
       "  <thead>\n",
       "    <tr style=\"text-align: right;\">\n",
       "      <th></th>\n",
       "      <th>game</th>\n",
       "      <th>location</th>\n",
       "    </tr>\n",
       "  </thead>\n",
       "  <tbody>\n",
       "    <tr>\n",
       "      <th>0</th>\n",
       "      <td>Category:Locations in the comics</td>\n",
       "      <td>Black Forest</td>\n",
       "    </tr>\n",
       "    <tr>\n",
       "      <th>1</th>\n",
       "      <td>Category:Locations in the comics</td>\n",
       "      <td>Blaviken</td>\n",
       "    </tr>\n",
       "    <tr>\n",
       "      <th>2</th>\n",
       "      <td>Category:Locations in the comics</td>\n",
       "      <td>Caed Dhu</td>\n",
       "    </tr>\n",
       "    <tr>\n",
       "      <th>3</th>\n",
       "      <td>Category:Locations in the comics</td>\n",
       "      <td>Caingorn (city)</td>\n",
       "    </tr>\n",
       "    <tr>\n",
       "      <th>4</th>\n",
       "      <td>Category:Locations in the comics</td>\n",
       "      <td>Cathedral (Creigiau)</td>\n",
       "    </tr>\n",
       "    <tr>\n",
       "      <th>...</th>\n",
       "      <td>...</td>\n",
       "      <td>...</td>\n",
       "    </tr>\n",
       "    <tr>\n",
       "      <th>1262</th>\n",
       "      <td>Category:Yrrhedes locations</td>\n",
       "      <td>Meskera</td>\n",
       "    </tr>\n",
       "    <tr>\n",
       "      <th>1263</th>\n",
       "      <td>Category:Yrrhedes locations</td>\n",
       "      <td>Red Horn Massif</td>\n",
       "    </tr>\n",
       "    <tr>\n",
       "      <th>1264</th>\n",
       "      <td>Category:Yrrhedes locations</td>\n",
       "      <td>Sea of Gales</td>\n",
       "    </tr>\n",
       "    <tr>\n",
       "      <th>1265</th>\n",
       "      <td>Category:Yrrhedes locations</td>\n",
       "      <td>Vevera</td>\n",
       "    </tr>\n",
       "    <tr>\n",
       "      <th>1266</th>\n",
       "      <td>Category:Yrrhedes locations</td>\n",
       "      <td>Yarra (Oko Yrrhedesa)</td>\n",
       "    </tr>\n",
       "  </tbody>\n",
       "</table>\n",
       "<p>1267 rows × 2 columns</p>\n",
       "</div>"
      ],
      "text/plain": [
       "                                  game               location\n",
       "0     Category:Locations in the comics           Black Forest\n",
       "1     Category:Locations in the comics               Blaviken\n",
       "2     Category:Locations in the comics               Caed Dhu\n",
       "3     Category:Locations in the comics        Caingorn (city)\n",
       "4     Category:Locations in the comics   Cathedral (Creigiau)\n",
       "...                                ...                    ...\n",
       "1262       Category:Yrrhedes locations                Meskera\n",
       "1263       Category:Yrrhedes locations        Red Horn Massif\n",
       "1264       Category:Yrrhedes locations           Sea of Gales\n",
       "1265       Category:Yrrhedes locations                 Vevera\n",
       "1266       Category:Yrrhedes locations  Yarra (Oko Yrrhedesa)\n",
       "\n",
       "[1267 rows x 2 columns]"
      ]
     },
     "execution_count": 110,
     "metadata": {},
     "output_type": "execute_result"
    }
   ],
   "source": [
    "#make to DF\n",
    "df=pd.DataFrame(location_list)\n",
    "df"
   ]
  },
  {
   "cell_type": "code",
   "execution_count": 113,
   "id": "46b1e408-7431-415b-956d-564b251ae0d2",
   "metadata": {},
   "outputs": [
    {
     "data": {
      "image/png": "[encoded data removed]",
      "text/plain": [
       "<Figure size 1440x576 with 1 Axes>"
      ]
     },
     "metadata": {
      "needs_background": "light"
     },
     "output_type": "display_data"
    }
   ],
   "source": [
    "#countplot show number of locations for each game - desc\n",
    "plt.figure(figsize=(20,8))\n",
    "\n",
    "ax=sns.countplot(\n",
    "            data =df, \n",
    "            x='game',\n",
    "            order=df['game'].value_counts().index)\n",
    "ax.set_xticklabels(ax.get_xticklabels(),rotation = 90)\n",
    "plt.show()"
   ]
  }
 ],
 "metadata": {
  "kernelspec": {
   "display_name": "Python 3 (ipykernel)",
   "language": "python",
   "name": "python3"
  },
  "language_info": {
   "codemirror_mode": {
    "name": "ipython",
    "version": 3
   },
   "file_extension": ".py",
   "mimetype": "text/x-python",
   "name": "python",
   "nbconvert_exporter": "python",
   "pygments_lexer": "ipython3",
   "version": "3.9.7"
  }
 },
 "nbformat": 4,
 "nbformat_minor": 5
}
